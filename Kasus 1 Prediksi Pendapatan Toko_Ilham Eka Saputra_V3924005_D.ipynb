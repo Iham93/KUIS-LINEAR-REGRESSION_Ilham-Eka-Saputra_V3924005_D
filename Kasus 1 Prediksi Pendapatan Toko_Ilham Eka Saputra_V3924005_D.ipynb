{
 "cells": [
  {
   "cell_type": "code",
   "execution_count": 1,
   "id": "79ae495c-1cec-4aae-b9a6-173c6cb2e11c",
   "metadata": {},
   "outputs": [
    {
     "name": "stdout",
     "output_type": "stream",
     "text": [
      "Kasus 1: Prediksi Pendapatan Toko\n",
      "Model Regresi: Y = 0.00 + 20.00X\n",
      "Prediksi pendapatan untuk 35 pelanggan adalah: Rp 700.000\n"
     ]
    }
   ],
   "source": [
    "import numpy as np\n",
    "from sklearn.linear_model import LinearRegression\n",
    "\n",
    "# Data dari kasus\n",
    "# Jumlah Pelanggan (X)\n",
    "X = np.array([10, 20, 30, 40, 50]).reshape(-1, 1)\n",
    "# Pendapatan (Y) dalam ribu rupiah\n",
    "y = np.array([200, 400, 600, 800, 1000])\n",
    "\n",
    "# Membuat dan melatih model regresi linear\n",
    "model_1 = LinearRegression()\n",
    "model_1.fit(X, y)\n",
    "\n",
    "# Mendapatkan koefisien model\n",
    "a_1 = model_1.intercept_\n",
    "b_1 = model_1.coef_[0]\n",
    "\n",
    "# Membuat prediksi untuk 35 pelanggan\n",
    "pelanggan_baru = np.array([[35]])\n",
    "prediksi_pendapatan = model_1.predict(pelanggan_baru)\n",
    "\n",
    "# Menampilkan hasil\n",
    "print(f\"Kasus 1: Prediksi Pendapatan Toko\")\n",
    "print(f\"Model Regresi: Y = {a_1:.2f} + {b_1:.2f}X\")\n",
    "print(f\"Prediksi pendapatan untuk {pelanggan_baru[0][0]} pelanggan adalah: Rp {prediksi_pendapatan[0]:.0f}.000\")"
   ]
  },
  {
   "cell_type": "code",
   "execution_count": null,
   "id": "9fbca0dd-8125-49a8-b3f1-3a2d595599bc",
   "metadata": {},
   "outputs": [],
   "source": []
  }
 ],
 "metadata": {
  "kernelspec": {
   "display_name": "Python 3 (ipykernel)",
   "language": "python",
   "name": "python3"
  },
  "language_info": {
   "codemirror_mode": {
    "name": "ipython",
    "version": 3
   },
   "file_extension": ".py",
   "mimetype": "text/x-python",
   "name": "python",
   "nbconvert_exporter": "python",
   "pygments_lexer": "ipython3",
   "version": "3.12.7"
  }
 },
 "nbformat": 4,
 "nbformat_minor": 5
}
