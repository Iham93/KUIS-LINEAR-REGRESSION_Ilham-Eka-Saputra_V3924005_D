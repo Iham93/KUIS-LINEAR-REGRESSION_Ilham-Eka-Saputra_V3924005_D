{
 "cells": [
  {
   "cell_type": "code",
   "execution_count": 9,
   "id": "79ae495c-1cec-4aae-b9a6-173c6cb2e11c",
   "metadata": {},
   "outputs": [
    {
     "name": "stdout",
     "output_type": "stream",
     "text": [
      "\n",
      "Kasus 5: Prediksi Penjualan Kafe\n",
      "Model Regresi: Y = 2.38 + 7.92*X1 + 0.79*X2\n",
      "Prediksi penjualan jika pengunjung=75 dan menu baru=4 adalah: Rp 600.000\n"
     ]
    }
   ],
   "source": [
    "import numpy as np\n",
    "from sklearn.linear_model import LinearRegression\n",
    "import pandas as pd\n",
    "\n",
    "# Data dari kasus\n",
    "# X1 (Pengunjung), X2 (Menu Baru)\n",
    "X = np.array([\n",
    "    [50, 2],\n",
    "    [60, 3],\n",
    "    [70, 4],\n",
    "    [80, 5],\n",
    "    [90, 6]\n",
    "])\n",
    "# Y (Penjualan)\n",
    "y = np.array([400, 480, 560, 640, 720])\n",
    "\n",
    "# Membuat dan melatih model regresi linear berganda\n",
    "model_5 = LinearRegression()\n",
    "model_5.fit(X, y)\n",
    "\n",
    "# Mendapatkan koefisien model\n",
    "a_5 = model_5.intercept_\n",
    "b1_5 = model_5.coef_[0]\n",
    "b2_5 = model_5.coef_[1]\n",
    "\n",
    "# Membuat prediksi untuk X1=75 dan X2=4\n",
    "data_baru = np.array([[75, 4]])\n",
    "prediksi_penjualan = model_5.predict(data_baru)\n",
    "\n",
    "# Menampilkan hasil\n",
    "print(f\"\\nKasus 5: Prediksi Penjualan Kafe\")\n",
    "print(f\"Model Regresi: Y = {a_5:.2f} + {b1_5:.2f}*X1 + {b2_5:.2f}*X2\")\n",
    "print(f\"Prediksi penjualan jika pengunjung={data_baru[0][0]} dan menu baru={data_baru[0][1]} adalah: Rp {prediksi_penjualan[0]:.0f}.000\")"
   ]
  },
  {
   "cell_type": "code",
   "execution_count": null,
   "id": "9fbca0dd-8125-49a8-b3f1-3a2d595599bc",
   "metadata": {},
   "outputs": [],
   "source": []
  },
  {
   "cell_type": "code",
   "execution_count": null,
   "id": "e6ecf66d-0995-4ecc-953f-17839684756d",
   "metadata": {},
   "outputs": [],
   "source": []
  }
 ],
 "metadata": {
  "kernelspec": {
   "display_name": "Python 3 (ipykernel)",
   "language": "python",
   "name": "python3"
  },
  "language_info": {
   "codemirror_mode": {
    "name": "ipython",
    "version": 3
   },
   "file_extension": ".py",
   "mimetype": "text/x-python",
   "name": "python",
   "nbconvert_exporter": "python",
   "pygments_lexer": "ipython3",
   "version": "3.12.7"
  }
 },
 "nbformat": 4,
 "nbformat_minor": 5
}
