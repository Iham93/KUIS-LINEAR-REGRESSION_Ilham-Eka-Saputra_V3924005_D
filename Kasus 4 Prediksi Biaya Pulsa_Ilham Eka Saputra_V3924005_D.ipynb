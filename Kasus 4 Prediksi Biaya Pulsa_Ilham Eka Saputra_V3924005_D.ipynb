{
 "cells": [
  {
   "cell_type": "code",
   "execution_count": 1,
   "id": "79ae495c-1cec-4aae-b9a6-173c6cb2e11c",
   "metadata": {},
   "outputs": [
    {
     "name": "stdout",
     "output_type": "stream",
     "text": [
      "\n",
      "Kasus 4: Prediksi Biaya Pulsa\n",
      "Model Regresi: Y = 0.00 + 5000.00X\n",
      "Prediksi biaya pulsa untuk 18 jam penggunaan internet adalah: Rp 90000\n"
     ]
    }
   ],
   "source": [
    "import numpy as np\n",
    "from sklearn.linear_model import LinearRegression\n",
    "\n",
    "# Data dari kasus\n",
    "# Jam Internet (X)\n",
    "X = np.array([5, 10, 15, 20]).reshape(-1, 1)\n",
    "# Biaya Pulsa (Y)\n",
    "y = np.array([25000, 50000, 75000, 100000])\n",
    "\n",
    "# Membuat dan melatih model regresi linear\n",
    "model_4 = LinearRegression()\n",
    "model_4.fit(X, y)\n",
    "\n",
    "# Mendapatkan koefisien model\n",
    "a_4 = model_4.intercept_\n",
    "b_4 = model_4.coef_[0]\n",
    "\n",
    "# Membuat prediksi untuk 18 jam penggunaan internet\n",
    "jam_baru = np.array([[18]])\n",
    "prediksi_biaya = model_4.predict(jam_baru)\n",
    "\n",
    "# Menampilkan hasil\n",
    "print(f\"\\nKasus 4: Prediksi Biaya Pulsa\")\n",
    "print(f\"Model Regresi: Y = {a_4:.2f} + {b_4:.2f}X\")\n",
    "print(f\"Prediksi biaya pulsa untuk {jam_baru[0][0]} jam penggunaan internet adalah: Rp {prediksi_biaya[0]:.0f}\")"
   ]
  },
  {
   "cell_type": "code",
   "execution_count": null,
   "id": "9fbca0dd-8125-49a8-b3f1-3a2d595599bc",
   "metadata": {},
   "outputs": [],
   "source": []
  }
 ],
 "metadata": {
  "kernelspec": {
   "display_name": "base",
   "language": "python",
   "name": "python3"
  },
  "language_info": {
   "codemirror_mode": {
    "name": "ipython",
    "version": 3
   },
   "file_extension": ".py",
   "mimetype": "text/x-python",
   "name": "python",
   "nbconvert_exporter": "python",
   "pygments_lexer": "ipython3",
   "version": "3.12.7"
  }
 },
 "nbformat": 4,
 "nbformat_minor": 5
}
