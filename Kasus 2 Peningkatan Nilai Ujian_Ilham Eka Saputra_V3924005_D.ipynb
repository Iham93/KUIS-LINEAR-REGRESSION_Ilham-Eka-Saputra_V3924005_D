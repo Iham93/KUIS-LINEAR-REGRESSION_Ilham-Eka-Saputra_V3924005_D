{
 "cells": [
  {
   "cell_type": "code",
   "execution_count": 3,
   "id": "79ae495c-1cec-4aae-b9a6-173c6cb2e11c",
   "metadata": {},
   "outputs": [
    {
     "name": "stdout",
     "output_type": "stream",
     "text": [
      "\n",
      "Kasus 2: Peningkatan Nilai Ujian\n",
      "Rata-rata peningkatan nilai untuk setiap jam belajar (slope) adalah: 5.00 poin\n"
     ]
    }
   ],
   "source": [
    "import numpy as np\n",
    "from sklearn.linear_model import LinearRegression\n",
    "\n",
    "# Data dari kasus\n",
    "# Waktu Belajar (jam) (X)\n",
    "X = np.array([1, 2, 3, 4]).reshape(-1, 1)\n",
    "# Nilai Ujian (Y)\n",
    "y = np.array([60, 65, 70, 75])\n",
    "\n",
    "# Membuat dan melatih model regresi linear\n",
    "model_2 = LinearRegression()\n",
    "model_2.fit(X, y)\n",
    "\n",
    "# Mendapatkan koefisien slope\n",
    "peningkatan_nilai = model_2.coef_[0]\n",
    "\n",
    "# Menampilkan hasil\n",
    "print(f\"\\nKasus 2: Peningkatan Nilai Ujian\")\n",
    "print(f\"Rata-rata peningkatan nilai untuk setiap jam belajar (slope) adalah: {peningkatan_nilai:.2f} poin\")"
   ]
  },
  {
   "cell_type": "code",
   "execution_count": null,
   "id": "9fbca0dd-8125-49a8-b3f1-3a2d595599bc",
   "metadata": {},
   "outputs": [],
   "source": []
  }
 ],
 "metadata": {
  "kernelspec": {
   "display_name": "Python 3 (ipykernel)",
   "language": "python",
   "name": "python3"
  },
  "language_info": {
   "codemirror_mode": {
    "name": "ipython",
    "version": 3
   },
   "file_extension": ".py",
   "mimetype": "text/x-python",
   "name": "python",
   "nbconvert_exporter": "python",
   "pygments_lexer": "ipython3",
   "version": "3.12.7"
  }
 },
 "nbformat": 4,
 "nbformat_minor": 5
}
