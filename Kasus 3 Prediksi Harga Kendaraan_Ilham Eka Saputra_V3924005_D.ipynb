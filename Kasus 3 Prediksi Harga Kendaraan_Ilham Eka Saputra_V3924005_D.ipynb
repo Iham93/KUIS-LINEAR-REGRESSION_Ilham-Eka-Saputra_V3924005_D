{
 "cells": [
  {
   "cell_type": "code",
   "execution_count": 5,
   "id": "79ae495c-1cec-4aae-b9a6-173c6cb2e11c",
   "metadata": {},
   "outputs": [
    {
     "name": "stdout",
     "output_type": "stream",
     "text": [
      "\n",
      "Kasus 3: Prediksi Harga Kendaraan\n",
      "Model Regresi: Y = 165.00 + -15.00X\n",
      "Prediksi harga jual untuk kendaraan usia 4 tahun adalah: Rp 105 juta\n"
     ]
    }
   ],
   "source": [
    "import numpy as np\n",
    "from sklearn.linear_model import LinearRegression\n",
    "\n",
    "# Data dari kasus\n",
    "# Usia (tahun) (X)\n",
    "X = np.array([1, 3, 5, 7, 9]).reshape(-1, 1)\n",
    "# Harga Jual (juta) (Y)\n",
    "y = np.array([150, 120, 90, 60, 30])\n",
    "\n",
    "# Membuat dan melatih model regresi linear\n",
    "model_3 = LinearRegression()\n",
    "model_3.fit(X, y)\n",
    "\n",
    "# Mendapatkan koefisien model\n",
    "a_3 = model_3.intercept_\n",
    "b_3 = model_3.coef_[0]\n",
    "\n",
    "# Membuat prediksi untuk usia kendaraan 4 tahun\n",
    "usia_baru = np.array([[4]])\n",
    "prediksi_harga = model_3.predict(usia_baru)\n",
    "\n",
    "# Menampilkan hasil\n",
    "print(f\"\\nKasus 3: Prediksi Harga Kendaraan\")\n",
    "print(f\"Model Regresi: Y = {a_3:.2f} + {b_3:.2f}X\")\n",
    "print(f\"Prediksi harga jual untuk kendaraan usia {usia_baru[0][0]} tahun adalah: Rp {prediksi_harga[0]:.0f} juta\")"
   ]
  },
  {
   "cell_type": "code",
   "execution_count": null,
   "id": "9fbca0dd-8125-49a8-b3f1-3a2d595599bc",
   "metadata": {},
   "outputs": [],
   "source": []
  }
 ],
 "metadata": {
  "kernelspec": {
   "display_name": "Python 3 (ipykernel)",
   "language": "python",
   "name": "python3"
  },
  "language_info": {
   "codemirror_mode": {
    "name": "ipython",
    "version": 3
   },
   "file_extension": ".py",
   "mimetype": "text/x-python",
   "name": "python",
   "nbconvert_exporter": "python",
   "pygments_lexer": "ipython3",
   "version": "3.12.7"
  }
 },
 "nbformat": 4,
 "nbformat_minor": 5
}
